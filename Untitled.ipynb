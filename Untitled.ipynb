{
 "cells": [
  {
   "cell_type": "code",
   "execution_count": 1,
   "id": "6423fe73",
   "metadata": {},
   "outputs": [],
   "source": [
    "# Gerekli olan kütüpanelerin import edilmesi.\n",
    "\n",
    "import numpy as np\n",
    "import pandas as pd\n",
    "from sklearn.model_selection import train_test_split, GridSearchCV\n",
    "from sklearn.metrics import mean_squared_error, r2_score\n",
    "import matplotlib.pyplot as plt\n",
    "from sklearn.preprocessing import scale\n",
    "from sklearn.preprocessing import StandardScaler\n",
    "from sklearn import model_selection\n",
    "from sklearn.linear_model import LinearRegression\n",
    "from sklearn.tree import DecisionTreeRegressor\n",
    "from sklearn.neural_network import MLPRegressor\n",
    "from sklearn.neighbors import KNeighborsRegressor\n",
    "from sklearn.ensemble import RandomForestRegressor\n",
    "from sklearn.ensemble import GradientBoostingRegressor\n",
    "from sklearn import neighbors\n",
    "from sklearn.svm import SVR"
   ]
  },
  {
   "cell_type": "code",
   "execution_count": 3,
   "id": "2db33b18",
   "metadata": {},
   "outputs": [],
   "source": [
    "# Veri setinin okunmasını sağlıyorum.\n",
    "df = pd.read_csv(r\"C:\\Users\\realb\\Desktop\\ML_dersler\\ML_301\\Otomasyonel_algoritma_deneme\\Hitters.csv\")\n",
    "\n",
    "# Veri setinin içinden eksik gözlemleri çıkarmak gerekiyor bu işlemi yapıyorum.\n",
    "df = df.dropna()\n",
    "\n",
    "# Şimdi ise dummies ile kukla veri işlemi yapıyorum. One end coding yöntemi ile bu işlemi yapıyorum.\n",
    "dms = pd.get_dummies(df[['League', 'Division','NewLeague']])"
   ]
  },
  {
   "cell_type": "code",
   "execution_count": 7,
   "id": "eafeba29",
   "metadata": {},
   "outputs": [],
   "source": [
    "def comMl (df, y, algoritma):\n",
    "    # train test ayrımını yapmak.\n",
    "    # Bağımlı değişkenimi \"y\" atıyorum.\n",
    "    y = df[y]\n",
    "\n",
    "    # Veri setimiz içindeki bağımlı değişkeni ve katogorik değişkenlerin götürülmesi işlemini yapıyorum.\n",
    "    X_ = df.drop(['Salary', 'League', 'Division', 'NewLeague'], axis=1).astype('float64')\n",
    "\n",
    "    # Sonuçunda yukardaki değerlerin dummi versyonlarını ve bağımsız değişkenlerimi bir arada tutma işlemini yapıyorum.\n",
    "    X = pd.concat([X_, dms[['League_N', 'Division_W', 'NewLeague_N']]], axis=1)\n",
    "\n",
    "    # Şimdi ise veri setimizde train ve test ayrımı yapmak için bu ayrımı yapma işlemini yapıyorum.\n",
    "    X_train, X_test, y_train, y_test = train_test_split(X, y, test_size=0.25, random_state=42)\n",
    "    \n",
    "    #modelleme.\n",
    "    model = algoritma().fit(X_train, y_train)\n",
    "    \n",
    "    y_pred = model.predict(X_test)\n",
    "    RMSE = np.sqrt(mean_squared_error(y_test, y_pred))\n",
    "    model_ismi = algoritma.__name__\n",
    "    print(model_ismi, \"Model test hatası: \", RMSE)"
   ]
  },
  {
   "cell_type": "code",
   "execution_count": 8,
   "id": "b52a1363",
   "metadata": {},
   "outputs": [],
   "source": [
    "# Kullanmak istediğim modellerin tanımlamasını tyapıyorum.\n",
    "\n",
    "models = [\n",
    "    SVR,\n",
    "    LinearRegression,\n",
    "    DecisionTreeRegressor,\n",
    "    MLPRegressor,\n",
    "    KNeighborsRegressor,\n",
    "    RandomForestRegressor,\n",
    "    GradientBoostingRegressor,\n",
    "]"
   ]
  },
  {
   "cell_type": "code",
   "execution_count": 9,
   "id": "5cd8b196",
   "metadata": {},
   "outputs": [
    {
     "name": "stdout",
     "output_type": "stream",
     "text": [
      "SVR Model test hatası:  460.0032657244849\n",
      "LinearRegression Model test hatası:  357.0532909460728\n",
      "DecisionTreeRegressor Model test hatası:  520.0712089410828\n",
      "MLPRegressor Model test hatası:  359.9314812491831\n"
     ]
    },
    {
     "name": "stderr",
     "output_type": "stream",
     "text": [
      "C:\\Users\\realb\\anaconda3\\Lib\\site-packages\\sklearn\\neural_network\\_multilayer_perceptron.py:691: ConvergenceWarning: Stochastic Optimizer: Maximum iterations (200) reached and the optimization hasn't converged yet.\n",
      "  warnings.warn(\n"
     ]
    },
    {
     "name": "stdout",
     "output_type": "stream",
     "text": [
      "KNeighborsRegressor Model test hatası:  426.6570764525201\n",
      "RandomForestRegressor Model test hatası:  343.3584740650863\n",
      "GradientBoostingRegressor Model test hatası:  353.1245136188321\n"
     ]
    }
   ],
   "source": [
    "# Burda ise denediğim modelleri sonuçlarına baklıp hangi modelin veri gurubu ve projem için uygun olduğuna karar verebilirim.?\n",
    "# Alınan hata ise veri gurubundaki iterasyon her model ile uyumlu olmaya bilir bu yüzden bunu bu şekilde bırakıyorum eğer bu\n",
    "#şekilde hata alacak olursanır iteresyon ayarlamanızı gözden geçirin!\n",
    "for i in models:\n",
    "    comMl(df, \"Salary\", i)"
   ]
  }
 ],
 "metadata": {
  "kernelspec": {
   "display_name": "Python 3 (ipykernel)",
   "language": "python",
   "name": "python3"
  },
  "language_info": {
   "codemirror_mode": {
    "name": "ipython",
    "version": 3
   },
   "file_extension": ".py",
   "mimetype": "text/x-python",
   "name": "python",
   "nbconvert_exporter": "python",
   "pygments_lexer": "ipython3",
   "version": "3.11.5"
  }
 },
 "nbformat": 4,
 "nbformat_minor": 5
}
